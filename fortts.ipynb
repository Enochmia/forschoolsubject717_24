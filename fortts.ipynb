{
 "cells": [
  {
   "cell_type": "code",
   "execution_count": 9,
   "id": "309ae074-531b-4867-817c-21315090155d",
   "metadata": {},
   "outputs": [],
   "source": [
    "from gtts import gTTS as gt"
   ]
  },
  {
   "cell_type": "code",
   "execution_count": 13,
   "id": "c0ce4395-4413-4dfa-8efb-7be1972010f2",
   "metadata": {},
   "outputs": [],
   "source": [
    "text = ['아직 빨간불입니다. 조금만 더 기다려주세요.', \n",
    "        '초록불입니다. 건너셔도 괜찮습니다.', \n",
    "        '근처에 신호등이 없거나, 판단하기 어려운 상황입니다. 주변에 도움을 청하셔야합니다. 아니면 카메라의 각도를 약간 수정해주세요.']"
   ]
  },
  {
   "cell_type": "code",
   "execution_count": 15,
   "id": "6b180e74-cc7e-4224-852c-c2fc51ad5e94",
   "metadata": {},
   "outputs": [],
   "source": [
    "#tts_red = gt(text=text[0], lang='ko')\n",
    "#tts_green = gt(text=text[1], lang='ko')\n",
    "tts_cannot = gt(text=text[2], lang='ko')"
   ]
  },
  {
   "cell_type": "code",
   "execution_count": 16,
   "id": "19b80c2d-1c85-4d15-9f9a-b8a1b30f3528",
   "metadata": {},
   "outputs": [],
   "source": [
    "tts_cannot.save(\"C:/Users/ludre/Desktop/School_Proj/3rd/7subjectdisquisition/3code3rd/tts_files/tts_cannot.mp3\")\n",
    "#tts_green.save(\"C:/Users/ludre/Desktop/School_Proj/3rd/7subjectdisquisition/3code3rd/tts_files/tts_green.mp3\")\n",
    "#tts_red.save(\"C:/Users/ludre/Desktop/School_Proj/3rd/7subjectdisquisition/3code3rd/tts_files/tts_red.mp3\")"
   ]
  },
  {
   "cell_type": "code",
   "execution_count": null,
   "id": "a8d01690-cb37-412b-8bd5-caa09d249bdd",
   "metadata": {},
   "outputs": [],
   "source": []
  }
 ],
 "metadata": {
  "kernelspec": {
   "display_name": "Python 3 (ipykernel)",
   "language": "python",
   "name": "python3"
  },
  "language_info": {
   "codemirror_mode": {
    "name": "ipython",
    "version": 3
   },
   "file_extension": ".py",
   "mimetype": "text/x-python",
   "name": "python",
   "nbconvert_exporter": "python",
   "pygments_lexer": "ipython3",
   "version": "3.8.19"
  }
 },
 "nbformat": 4,
 "nbformat_minor": 5
}
