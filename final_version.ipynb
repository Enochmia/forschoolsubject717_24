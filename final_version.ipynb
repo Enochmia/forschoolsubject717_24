{
 "cells": [
  {
   "cell_type": "code",
   "execution_count": 1,
   "id": "8092f744-b581-417c-84d9-30769663aaf5",
   "metadata": {},
   "outputs": [],
   "source": [
    "from ultralytics import YOLO\n",
    "import os\n",
    "import shutil\n",
    "import IPython"
   ]
  },
  {
   "cell_type": "code",
   "execution_count": 2,
   "id": "4e558657-d791-4cd4-ae6f-bc7a057bffae",
   "metadata": {},
   "outputs": [],
   "source": [
    "t_list = [\n",
    "    'C:/Users/ludre/Desktop/School_Proj/3rd/7subjectdisquisition/3code3rd/third_weigh/best.pt',\n",
    "    'yolov8l.pt',\n",
    "    'C:/Users/ludre/Desktop/School_Proj/3rd/7subjectdisquisition/imgset/test/test10.jpeg',\n",
    "    ['C:/Users/ludre/Desktop/School_Proj/3rd/7subjectdisquisition/3code3rd/runs/detect/predict/crops/red',\n",
    "     'C:/Users/ludre/Desktop/School_Proj/3rd/7subjectdisquisition/3code3rd/runs/detect/predict/crops/green'],\n",
    "    ['C:/Users/ludre/Desktop/School_Proj/3rd/7subjectdisquisition/3code3rd/tts_files/tts_green.mp3',\n",
    "     'C:/Users/ludre/Desktop/School_Proj/3rd/7subjectdisquisition/3code3rd/tts_files/tts_red.mp3',\n",
    "     'C:/Users/ludre/Desktop/School_Proj/3rd/7subjectdisquisition/3code3rd/tts_files/tts_cannot.mp3'],\n",
    "    'C:/Users/ludre/Desktop/School_Proj/3rd/7subjectdisquisition/3code3rd/runs/detect/predict'\n",
    "]"
   ]
  },
  {
   "cell_type": "code",
   "execution_count": 3,
   "id": "c6452186-dd39-4355-8197-d05f50ddb6c2",
   "metadata": {
    "scrolled": true
   },
   "outputs": [
    {
     "name": "stdout",
     "output_type": "stream",
     "text": [
      "\n",
      "image 1/1 C:\\Users\\ludre\\Desktop\\School_Proj\\3rd\\7subjectdisquisition\\imgset\\test\\test8.png: 608x640 1 red, 348.1ms\n",
      "Speed: 21.0ms preprocess, 348.1ms inference, 322.4ms postprocess per image at shape (1, 3, 608, 640)\n",
      "Results saved to \u001b[1mruns\\detect\\predict\u001b[0m\n",
      "ultralytics.engine.results.Boxes object with attributes:\n",
      "\n",
      "cls: tensor([1.], device='cuda:0')\n",
      "conf: tensor([0.6201], device='cuda:0')\n",
      "data: tensor([[8.8239e+02, 3.5563e+02, 9.1965e+02, 3.8961e+02, 6.2015e-01, 1.0000e+00]], device='cuda:0')\n",
      "id: None\n",
      "is_track: False\n",
      "orig_shape: (1167, 1280)\n",
      "shape: torch.Size([1, 6])\n",
      "xywh: tensor([[901.0166, 372.6177,  37.2603,  33.9830]], device='cuda:0')\n",
      "xywhn: tensor([[0.7039, 0.3193, 0.0291, 0.0291]], device='cuda:0')\n",
      "xyxy: tensor([[882.3865, 355.6262, 919.6467, 389.6093]], device='cuda:0')\n",
      "xyxyn: tensor([[0.6894, 0.3047, 0.7185, 0.3339]], device='cuda:0')\n",
      "None\n"
     ]
    }
   ],
   "source": [
    "model = YOLO(t_list[0]) #custom모델입니다\n",
    "\n",
    "\"\"\"\n",
    "model = YOLO(t_list[1]) #공식 모델입니다.\n",
    "\"\"\"\n",
    "\n",
    "result = model(t_list[2], save=True, save_crop=True)  #obj detection입니다\n",
    "\n",
    "\"\"\"\n",
    "result = model(source=0, show=True, conf=0.6) #webcam detection입니다\n",
    "\"\"\"\n",
    "\n",
    "print(result[0].boxes) #info 부분입니다\n",
    "print(result[0].show()) #visualize 부분입니다"
   ]
  },
  {
   "cell_type": "code",
   "execution_count": null,
   "id": "e4ec47e0-55ed-4086-95b0-8df2684c20a5",
   "metadata": {},
   "outputs": [],
   "source": [
    "list_1 = [os.listdir(t_list[3][0]), os.listdir(t_list[3][1])]\n",
    "num = [len(list_1[0]), len(list_1[1])]\n",
    "print(num)"
   ]
  },
  {
   "cell_type": "code",
   "execution_count": null,
   "id": "ecdeaf50-deb7-480a-a7cd-2ac44b6b7dde",
   "metadata": {},
   "outputs": [],
   "source": [
    "if num[0] < num[1]:\n",
    "    display(IPython.display.Audio(t_list[4][0], autoplay=True))\n",
    "    \n",
    "elif num[1] < num[0]:\n",
    "    display(IPython.display.Audio(t_list[4][1], autoplay=True))\n",
    "    \n",
    "elif num[0]==num[1]:\n",
    "    display(IPython.display.Audio(t_list[4][2], autoplay=True))"
   ]
  },
  {
   "cell_type": "code",
   "execution_count": null,
   "id": "138e5631-6010-482e-95bf-3c3c76771059",
   "metadata": {},
   "outputs": [],
   "source": [
    "file_path = t_list[5]\n",
    "\n",
    "try:\n",
    "    shutil.rmtree(file_path)\n",
    "    \n",
    "except:\n",
    "    print('not existing')"
   ]
  },
  {
   "cell_type": "code",
   "execution_count": null,
   "id": "79cf58f5-5450-4dd1-a69b-cdda5037263d",
   "metadata": {},
   "outputs": [],
   "source": []
  }
 ],
 "metadata": {
  "kernelspec": {
   "display_name": "Python 3 (ipykernel)",
   "language": "python",
   "name": "python3"
  },
  "language_info": {
   "codemirror_mode": {
    "name": "ipython",
    "version": 3
   },
   "file_extension": ".py",
   "mimetype": "text/x-python",
   "name": "python",
   "nbconvert_exporter": "python",
   "pygments_lexer": "ipython3",
   "version": "3.8.19"
  }
 },
 "nbformat": 4,
 "nbformat_minor": 5
}
